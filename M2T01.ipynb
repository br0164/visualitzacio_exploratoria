{
 "cells": [
  {
   "cell_type": "markdown",
   "id": "b5395df0",
   "metadata": {},
   "source": [
    "## M2 T01: Visualització gràfica d'un dataset\n",
    "### Exercici 1\n",
    "##### Resumeix gràficament el data set DelayedFlights.csv\n",
    "\n",
    "##### Crea almenys una visualització per:\n",
    "1. Una variable categòrica (UniqueCarrier)\n",
    "2. Una variable numèrica (ArrDelay)\n",
    "3. Una variable numèrica i una categòrica (ArrDelay i UniqueCarrier)\n",
    "4. Dues variables numèriques (ArrDelay i DepDelay)\n",
    "5. Tres variables (ArrDelay, DepDelay i UniqueCarrier)\n",
    "6. Més de tres variables (ArrDelay, DepDelay, AirTime i UniqueCarrier)."
   ]
  },
  {
   "cell_type": "markdown",
   "id": "f1b626a6",
   "metadata": {},
   "source": [
    "### Exercici 2\n",
    "\n",
    "##### Exporta els gràfics com imatges o com html."
   ]
  },
  {
   "cell_type": "markdown",
   "id": "2b1b9eb5",
   "metadata": {},
   "source": [
    "### Exercici 3\n",
    "\n",
    "##### Integra les visualitzacions gràfiques, en la tasca 2, del Mòdul 1."
   ]
  },
  {
   "cell_type": "markdown",
   "id": "bc8604fc",
   "metadata": {},
   "source": [
    "##### Per no haver de tornar a condicionar el Data Frame, s'agafa el .csv exportat a la M1T02 i s'utilitzarà la variable _TailNum_, que també és categòrica, enlloc de _UniqueCarrier_, que no es va agafar en el seu moment."
   ]
  },
  {
   "cell_type": "code",
   "execution_count": 1,
   "id": "5b7ce112",
   "metadata": {},
   "outputs": [],
   "source": [
    "import pandas as pd\n",
    "df = pd.read_csv('m1t02.csv')"
   ]
  },
  {
   "cell_type": "code",
   "execution_count": 2,
   "id": "b8e138f0",
   "metadata": {},
   "outputs": [],
   "source": [
    "# EXERICI 1.1 - Crear una visualització per una variable categòrica\n",
    "endarreriments = df[['TailNum','ElapsedTimeDelay']]"
   ]
  },
  {
   "cell_type": "code",
   "execution_count": 3,
   "id": "24e2ab12",
   "metadata": {},
   "outputs": [
    {
     "data": {
      "text/html": [
       "<div>\n",
       "<style scoped>\n",
       "    .dataframe tbody tr th:only-of-type {\n",
       "        vertical-align: middle;\n",
       "    }\n",
       "\n",
       "    .dataframe tbody tr th {\n",
       "        vertical-align: top;\n",
       "    }\n",
       "\n",
       "    .dataframe thead th {\n",
       "        text-align: right;\n",
       "    }\n",
       "</style>\n",
       "<table border=\"1\" class=\"dataframe\">\n",
       "  <thead>\n",
       "    <tr style=\"text-align: right;\">\n",
       "      <th></th>\n",
       "      <th>ElapsedTimeDelay</th>\n",
       "    </tr>\n",
       "    <tr>\n",
       "      <th>TailNum</th>\n",
       "      <th></th>\n",
       "    </tr>\n",
       "  </thead>\n",
       "  <tbody>\n",
       "    <tr>\n",
       "      <th>N220UA</th>\n",
       "      <td>33.800000</td>\n",
       "    </tr>\n",
       "    <tr>\n",
       "      <th>N172DZ</th>\n",
       "      <td>28.500000</td>\n",
       "    </tr>\n",
       "    <tr>\n",
       "      <th>N169DZ</th>\n",
       "      <td>23.000000</td>\n",
       "    </tr>\n",
       "    <tr>\n",
       "      <th>N194DN</th>\n",
       "      <td>22.666667</td>\n",
       "    </tr>\n",
       "  </tbody>\n",
       "</table>\n",
       "</div>"
      ],
      "text/plain": [
       "         ElapsedTimeDelay\n",
       "TailNum                  \n",
       "N220UA          33.800000\n",
       "N172DZ          28.500000\n",
       "N169DZ          23.000000\n",
       "N194DN          22.666667"
      ]
     },
     "execution_count": 3,
     "metadata": {},
     "output_type": "execute_result"
    }
   ],
   "source": [
    "mitjana_endarreriments = endarreriments.groupby('TailNum').ElapsedTimeDelay.mean()\n",
    "df_me = mitjana_endarreriments.to_frame().sort_values(['ElapsedTimeDelay'], ascending=0)[:4]\n",
    "df_me "
   ]
  },
  {
   "cell_type": "code",
   "execution_count": 4,
   "id": "e674b8cf",
   "metadata": {},
   "outputs": [
    {
     "data": {
      "text/html": [
       "<div>\n",
       "<style scoped>\n",
       "    .dataframe tbody tr th:only-of-type {\n",
       "        vertical-align: middle;\n",
       "    }\n",
       "\n",
       "    .dataframe tbody tr th {\n",
       "        vertical-align: top;\n",
       "    }\n",
       "\n",
       "    .dataframe thead th {\n",
       "        text-align: right;\n",
       "    }\n",
       "</style>\n",
       "<table border=\"1\" class=\"dataframe\">\n",
       "  <thead>\n",
       "    <tr style=\"text-align: right;\">\n",
       "      <th></th>\n",
       "      <th>ElapsedTimeDelay</th>\n",
       "      <th>TailNum</th>\n",
       "    </tr>\n",
       "    <tr>\n",
       "      <th>TailNum</th>\n",
       "      <th></th>\n",
       "      <th></th>\n",
       "    </tr>\n",
       "  </thead>\n",
       "  <tbody>\n",
       "    <tr>\n",
       "      <th>N220UA</th>\n",
       "      <td>33.800000</td>\n",
       "      <td>N220UA</td>\n",
       "    </tr>\n",
       "    <tr>\n",
       "      <th>N172DZ</th>\n",
       "      <td>28.500000</td>\n",
       "      <td>N172DZ</td>\n",
       "    </tr>\n",
       "    <tr>\n",
       "      <th>N169DZ</th>\n",
       "      <td>23.000000</td>\n",
       "      <td>N169DZ</td>\n",
       "    </tr>\n",
       "    <tr>\n",
       "      <th>N194DN</th>\n",
       "      <td>22.666667</td>\n",
       "      <td>N194DN</td>\n",
       "    </tr>\n",
       "  </tbody>\n",
       "</table>\n",
       "</div>"
      ],
      "text/plain": [
       "         ElapsedTimeDelay TailNum\n",
       "TailNum                          \n",
       "N220UA          33.800000  N220UA\n",
       "N172DZ          28.500000  N172DZ\n",
       "N169DZ          23.000000  N169DZ\n",
       "N194DN          22.666667  N194DN"
      ]
     },
     "execution_count": 4,
     "metadata": {},
     "output_type": "execute_result"
    }
   ],
   "source": [
    "df_me['TailNum'] = df_me.index #S'afegeix l'índex com a dada\n",
    "df_me #aquestes són les dades a representar"
   ]
  },
  {
   "cell_type": "code",
   "execution_count": 5,
   "id": "e82b1986",
   "metadata": {},
   "outputs": [
    {
     "data": {
      "image/png": "[encoded data removed]",
      "text/plain": [
       "<Figure size 432x288 with 1 Axes>"
      ]
     },
     "metadata": {
      "needs_background": "light"
     },
     "output_type": "display_data"
    }
   ],
   "source": [
    "import seaborn as sns\n",
    "import matplotlib.pyplot as plt\n",
    "fig1 = plt.figure()\n",
    "plot1 = sns.barplot(x='TailNum', y='ElapsedTimeDelay',data=df_me,color='grey')\n",
    "plot1.set_title('Vols amb major endarreriment mitjà')\n",
    "plot1.set_ylabel('Endarreriment mitjà [minuts]'); plot1.set_xlabel('Identificador de l\\'avió');\n",
    "plt.savefig('fig1_.png')"
   ]
  },
  {
   "cell_type": "code",
   "execution_count": 6,
   "id": "177b6153",
   "metadata": {},
   "outputs": [
    {
     "data": {
      "text/html": [
       "<div>\n",
       "<style scoped>\n",
       "    .dataframe tbody tr th:only-of-type {\n",
       "        vertical-align: middle;\n",
       "    }\n",
       "\n",
       "    .dataframe tbody tr th {\n",
       "        vertical-align: top;\n",
       "    }\n",
       "\n",
       "    .dataframe thead th {\n",
       "        text-align: right;\n",
       "    }\n",
       "</style>\n",
       "<table border=\"1\" class=\"dataframe\">\n",
       "  <thead>\n",
       "    <tr style=\"text-align: right;\">\n",
       "      <th></th>\n",
       "      <th>DayOfWeek</th>\n",
       "      <th>ArrDelay</th>\n",
       "    </tr>\n",
       "  </thead>\n",
       "  <tbody>\n",
       "    <tr>\n",
       "      <th>0</th>\n",
       "      <td>7</td>\n",
       "      <td>244.0</td>\n",
       "    </tr>\n",
       "    <tr>\n",
       "      <th>1</th>\n",
       "      <td>1</td>\n",
       "      <td>85.0</td>\n",
       "    </tr>\n",
       "    <tr>\n",
       "      <th>2</th>\n",
       "      <td>4</td>\n",
       "      <td>39.0</td>\n",
       "    </tr>\n",
       "    <tr>\n",
       "      <th>3</th>\n",
       "      <td>1</td>\n",
       "      <td>78.0</td>\n",
       "    </tr>\n",
       "    <tr>\n",
       "      <th>4</th>\n",
       "      <td>2</td>\n",
       "      <td>70.0</td>\n",
       "    </tr>\n",
       "  </tbody>\n",
       "</table>\n",
       "</div>"
      ],
      "text/plain": [
       "   DayOfWeek  ArrDelay\n",
       "0          7     244.0\n",
       "1          1      85.0\n",
       "2          4      39.0\n",
       "3          1      78.0\n",
       "4          2      70.0"
      ]
     },
     "execution_count": 6,
     "metadata": {},
     "output_type": "execute_result"
    }
   ],
   "source": [
    "# EXERCICI 1.2 - Crear una visualització per una variable numèrica\n",
    "delay_setmana = df[['DayOfWeek','ArrDelay']]\n",
    "delay_setmana.head() #aquestes són les dades a representar"
   ]
  },
  {
   "cell_type": "code",
   "execution_count": 7,
   "id": "ac02c3f2",
   "metadata": {},
   "outputs": [
    {
     "data": {
      "text/plain": [
       "DayOfWeek       7.0\n",
       "ArrDelay     2461.0\n",
       "dtype: float64"
      ]
     },
     "execution_count": 7,
     "metadata": {},
     "output_type": "execute_result"
    }
   ],
   "source": [
    "delay_setmana.max()# per"
   ]
  },
  {
   "cell_type": "code",
   "execution_count": 8,
   "id": "fac34d9d",
   "metadata": {},
   "outputs": [
    {
     "data": {
      "image/png": "[encoded data removed]",
      "text/plain": [
       "<Figure size 432x288 with 1 Axes>"
      ]
     },
     "metadata": {
      "needs_background": "light"
     },
     "output_type": "display_data"
    }
   ],
   "source": [
    "import numpy as np\n",
    "import matplotlib.pyplot as plt\n",
    "plt.figure()\n",
    "plt.hist(delay_setmana['ArrDelay'],bins=50, edgecolor='black');\n",
    "plt.savefig('fig21_.png')\n",
    "#plt.show()"
   ]
  },
  {
   "cell_type": "markdown",
   "id": "863b06bd",
   "metadata": {},
   "source": [
    "##### Sent un histograma de les dades d'Endarreriment en l'arribada, l'eix y ens mostra la freqüència dels endarreriments del conjunt de dades, en l'eix x. La majoria d'endarreriments (> 1.2M de registres) són positius majors a zero i el gràfic arriba fins 2500 (minuts), per incloure l'endarreriment més gra, que hem vist que era de 2461 minuts. \n",
    "##### Es pot fer el mateix anàlisi per diversos dies de la setmana:"
   ]
  },
  {
   "cell_type": "code",
   "execution_count": 9,
   "id": "de3fdb58",
   "metadata": {},
   "outputs": [
    {
     "data": {
      "image/png": "[encoded data removed]",
      "text/plain": [
       "<Figure size 432x288 with 1 Axes>"
      ]
     },
     "metadata": {
      "needs_background": "light"
     },
     "output_type": "display_data"
    }
   ],
   "source": [
    "dilluns = delay_setmana.groupby('DayOfWeek').get_group(1)\n",
    "plt.hist(dilluns['ArrDelay'],bins=50, edgecolor='black');\n",
    "plt.savefig('fig22_.png')"
   ]
  },
  {
   "cell_type": "markdown",
   "id": "52439294",
   "metadata": {},
   "source": [
    "##### En aquest cas, la freqüència màxima és més petita, ja que només estem agafant una part de les dades, i l'endarreriment màxim també es menor. Es podria dir que el dilluns no és el dia de la setmana amb més endarreriments.\n",
    "##### Per últim, amb aquest subconjunt de dades, també es pot analitzar quina quantitat de registres correspon a cada dia de la setmana:"
   ]
  },
  {
   "cell_type": "code",
   "execution_count": 10,
   "id": "4d4c77d9",
   "metadata": {},
   "outputs": [
    {
     "data": {
      "image/png": "[encoded data removed]",
      "text/plain": [
       "<Figure size 432x288 with 1 Axes>"
      ]
     },
     "metadata": {
      "needs_background": "light"
     },
     "output_type": "display_data"
    }
   ],
   "source": [
    "plt.hist(delay_setmana['DayOfWeek'],bins=7, edgecolor='black');\n",
    "plt.savefig('fig23_.png')"
   ]
  },
  {
   "cell_type": "markdown",
   "id": "f0bbd0bc",
   "metadata": {},
   "source": [
    "##### En aquest cas, el diagrama és bastant simètric i en l'eix horitzontal només hi ha 7 classes, corresponents als 7 dies de la setmana. "
   ]
  },
  {
   "cell_type": "code",
   "execution_count": 11,
   "id": "1bc32638",
   "metadata": {},
   "outputs": [
    {
     "data": {
      "text/html": [
       "<div>\n",
       "<style scoped>\n",
       "    .dataframe tbody tr th:only-of-type {\n",
       "        vertical-align: middle;\n",
       "    }\n",
       "\n",
       "    .dataframe tbody tr th {\n",
       "        vertical-align: top;\n",
       "    }\n",
       "\n",
       "    .dataframe thead th {\n",
       "        text-align: right;\n",
       "    }\n",
       "</style>\n",
       "<table border=\"1\" class=\"dataframe\">\n",
       "  <thead>\n",
       "    <tr style=\"text-align: right;\">\n",
       "      <th></th>\n",
       "      <th>UniqueCarrier</th>\n",
       "      <th>ArrDelay</th>\n",
       "    </tr>\n",
       "  </thead>\n",
       "  <tbody>\n",
       "    <tr>\n",
       "      <th>0</th>\n",
       "      <td>WN</td>\n",
       "      <td>-14.0</td>\n",
       "    </tr>\n",
       "    <tr>\n",
       "      <th>1</th>\n",
       "      <td>WN</td>\n",
       "      <td>2.0</td>\n",
       "    </tr>\n",
       "    <tr>\n",
       "      <th>2</th>\n",
       "      <td>WN</td>\n",
       "      <td>14.0</td>\n",
       "    </tr>\n",
       "    <tr>\n",
       "      <th>3</th>\n",
       "      <td>WN</td>\n",
       "      <td>34.0</td>\n",
       "    </tr>\n",
       "    <tr>\n",
       "      <th>4</th>\n",
       "      <td>WN</td>\n",
       "      <td>11.0</td>\n",
       "    </tr>\n",
       "  </tbody>\n",
       "</table>\n",
       "</div>"
      ],
      "text/plain": [
       "  UniqueCarrier  ArrDelay\n",
       "0            WN     -14.0\n",
       "1            WN       2.0\n",
       "2            WN      14.0\n",
       "3            WN      34.0\n",
       "4            WN      11.0"
      ]
     },
     "execution_count": 11,
     "metadata": {},
     "output_type": "execute_result"
    }
   ],
   "source": [
    "# EXERCICI 1.3 -  Crear una visualització per una variable numèrica i una categòrica (ArrDelay i UniqueCarrier)\n",
    "import pandas as pd\n",
    "data_frame = pd.read_csv('DelayedFlights.csv')\n",
    "data_frame = data_frame[['UniqueCarrier','ArrDelay']]\n",
    "data_frame = data_frame.dropna()\n",
    "data_frame.head()"
   ]
  },
  {
   "cell_type": "markdown",
   "id": "5eb1d6a8",
   "metadata": {},
   "source": [
    "##### Finalment, en aquest apartat s'opta per rescatar la variable _UniqueCarrier_  ja que en tenir només 20 elements diferents es pot utilitzar millor per representar el conjunt gràficament."
   ]
  },
  {
   "cell_type": "code",
   "execution_count": 12,
   "id": "95c54523",
   "metadata": {},
   "outputs": [
    {
     "data": {
      "image/png": "[encoded data removed]",
      "text/plain": [
       "<Figure size 432x288 with 1 Axes>"
      ]
     },
     "metadata": {
      "needs_background": "light"
     },
     "output_type": "display_data"
    }
   ],
   "source": [
    "import matplotlib.pyplot as plt\n",
    "import seaborn as sns\n",
    "sns.scatterplot(x = 'UniqueCarrier', y = 'ArrDelay', data = data_frame, color = 'grey')\n",
    "plt.savefig('fig3_.png')"
   ]
  },
  {
   "cell_type": "markdown",
   "id": "bce63a30",
   "metadata": {},
   "source": [
    "##### Nota: he provat de fer boxplots amb les mateixes dades, però no aporten molta informació perquè els quartils són molt estrets, pràcticament només idiquen la mitjana."
   ]
  },
  {
   "cell_type": "code",
   "execution_count": 13,
   "id": "e65ea48e",
   "metadata": {},
   "outputs": [
    {
     "data": {
      "image/png": "[encoded data removed]",
      "text/plain": [
       "<Figure size 432x288 with 1 Axes>"
      ]
     },
     "metadata": {
      "needs_background": "light"
     },
     "output_type": "display_data"
    }
   ],
   "source": [
    "# EXERCICI 1.4 - Crear una visualització per dues variables numèriques (ArrDelay i DepDelay)\n",
    "ad_delay = df[['DepDelay','ArrDelay']]# Dades a representar\n",
    "\n",
    "fig4 = plt.figure()\n",
    "plot4 = fig4.add_subplot(111)\n",
    "plot4.scatter(df['DepDelay'],df['ArrDelay'])\n",
    "plot4.plot([0,2500],[0,2500],c='r',linestyle='dashed')\n",
    "plot4.set_title('Vols amb major endarreriment mitjà'); plot4.grid()\n",
    "plot4.set_xlabel('Endarreriment en l\\'enlairement [minuts]'); plot4.set_ylabel('Endarreriment en l\\'aterratge [minuts]');\n",
    "plt.savefig('fig4_.png')"
   ]
  },
  {
   "cell_type": "markdown",
   "id": "41078a33",
   "metadata": {},
   "source": [
    "##### Amb això s'observa que hi ha una tendència a un major endarreriment en l'aterratge que en l'enlairement. S'ha de tenir en compte els histogrames realitzats anteriorment, ja que en aquest gràfic els punts queden solapats i no se n'observa la densitat."
   ]
  },
  {
   "cell_type": "code",
   "execution_count": 14,
   "id": "adbc25ac",
   "metadata": {},
   "outputs": [],
   "source": [
    "# EXERCICI 1.5 - Crear una visualització per tres variables (ArrDelay, DepDelay i UniqueCarrier)\n",
    "import pandas as pd\n",
    "data_frame = pd.read_csv('DelayedFlights.csv')\n",
    "g5 = data_frame[['UniqueCarrier','ArrDelay','DepDelay']].dropna().groupby('UniqueCarrier')"
   ]
  },
  {
   "cell_type": "code",
   "execution_count": 15,
   "id": "cba7da46",
   "metadata": {},
   "outputs": [],
   "source": [
    "AD_mean = g5.ArrDelay.mean().to_frame() #ArrDelay\n",
    "DD_mean = g5.DepDelay.mean().to_frame() #DepDelay"
   ]
  },
  {
   "cell_type": "code",
   "execution_count": 16,
   "id": "2dfea96f",
   "metadata": {},
   "outputs": [
    {
     "data": {
      "text/html": [
       "<div>\n",
       "<style scoped>\n",
       "    .dataframe tbody tr th:only-of-type {\n",
       "        vertical-align: middle;\n",
       "    }\n",
       "\n",
       "    .dataframe tbody tr th {\n",
       "        vertical-align: top;\n",
       "    }\n",
       "\n",
       "    .dataframe thead th {\n",
       "        text-align: right;\n",
       "    }\n",
       "</style>\n",
       "<table border=\"1\" class=\"dataframe\">\n",
       "  <thead>\n",
       "    <tr style=\"text-align: right;\">\n",
       "      <th></th>\n",
       "      <th>DepDelay</th>\n",
       "    </tr>\n",
       "    <tr>\n",
       "      <th>UniqueCarrier</th>\n",
       "      <th></th>\n",
       "    </tr>\n",
       "  </thead>\n",
       "  <tbody>\n",
       "    <tr>\n",
       "      <th>9E</th>\n",
       "      <td>47.350695</td>\n",
       "    </tr>\n",
       "    <tr>\n",
       "      <th>AA</th>\n",
       "      <td>46.395542</td>\n",
       "    </tr>\n",
       "    <tr>\n",
       "      <th>AQ</th>\n",
       "      <td>26.024194</td>\n",
       "    </tr>\n",
       "    <tr>\n",
       "      <th>AS</th>\n",
       "      <td>37.975775</td>\n",
       "    </tr>\n",
       "    <tr>\n",
       "      <th>B6</th>\n",
       "      <td>54.935294</td>\n",
       "    </tr>\n",
       "  </tbody>\n",
       "</table>\n",
       "</div>"
      ],
      "text/plain": [
       "                DepDelay\n",
       "UniqueCarrier           \n",
       "9E             47.350695\n",
       "AA             46.395542\n",
       "AQ             26.024194\n",
       "AS             37.975775\n",
       "B6             54.935294"
      ]
     },
     "execution_count": 16,
     "metadata": {},
     "output_type": "execute_result"
    }
   ],
   "source": [
    "DD_mean.head()"
   ]
  },
  {
   "cell_type": "code",
   "execution_count": 17,
   "id": "9f006676",
   "metadata": {},
   "outputs": [
    {
     "data": {
      "image/png": "[encoded data removed]",
      "text/plain": [
       "<Figure size 432x288 with 1 Axes>"
      ]
     },
     "metadata": {
      "needs_background": "light"
     },
     "output_type": "display_data"
    }
   ],
   "source": [
    "import matplotlib.pyplot as plt\n",
    "fig5, ax5 = plt.subplots()\n",
    "plt.plot(DD_mean.index, DD_mean['DepDelay'],'r-o')\n",
    "plt.plot(AD_mean.index, AD_mean['ArrDelay'],'b-o')\n",
    "plt.grid(); ax5.legend(['Departure Delay','Arrival Delay'])\n",
    "ax5.set_title('Endarreriment mitjà per Aerolínia')\n",
    "ax5.set_xlabel('Identificador de l\\'aerolínia (UniqueCarrier)'); ax5.set_ylabel('Delay [minutes]');\n",
    "plt.savefig('fig5_.png')"
   ]
  },
  {
   "cell_type": "code",
   "execution_count": 18,
   "id": "ca816ef7",
   "metadata": {},
   "outputs": [],
   "source": [
    "# EXERCICI 1.6 - Crear una visualització per més de tres variables (ArrDelay, DepDelay, AirTime i UniqueCarrier).\n",
    "\n",
    "import pandas as pd\n",
    "data_frame = pd.read_csv('DelayedFlights.csv')\n",
    "g6 = data_frame[['UniqueCarrier','ArrDelay','DepDelay','AirTime']].dropna().groupby('UniqueCarrier')"
   ]
  },
  {
   "cell_type": "code",
   "execution_count": 19,
   "id": "db108a1d",
   "metadata": {},
   "outputs": [],
   "source": [
    "# ArrDelay data\n",
    "AD_mean = g6.ArrDelay.mean().to_frame()\n",
    "AD_std = g6.ArrDelay.std().to_frame()\n",
    "# DepDelay data\n",
    "DD_mean = g6.DepDelay.mean().to_frame()\n",
    "DD_std = g6.DepDelay.std().to_frame() \n",
    "# AirTime data\n",
    "AT_mean = g6.AirTime.mean().to_frame()\n",
    "AT_std = g6.AirTime.std().to_frame()\n",
    "\n",
    "labels = AD_mean.index #són iguals per totes les dades.\n",
    "amplada = 0.75 #de les barres del gràfic"
   ]
  },
  {
   "cell_type": "code",
   "execution_count": 20,
   "id": "7ec6ad72",
   "metadata": {},
   "outputs": [
    {
     "data": {
      "image/png": "[encoded data removed]",
      "text/plain": [
       "<Figure size 432x288 with 1 Axes>"
      ]
     },
     "metadata": {
      "needs_background": "light"
     },
     "output_type": "display_data"
    }
   ],
   "source": [
    "# stacked-bar chart\n",
    "fig6, ax6 = plt.subplots()\n",
    "ax6.bar(labels, AT_mean['AirTime'], amplada, yerr=AT_std['AirTime'], label='AirTime', color = 'green')\n",
    "ax6.bar(labels, DD_mean['DepDelay'], amplada, bottom= AT_mean['AirTime'], label='DepDelay', color = 'cyan')\n",
    "ax6.bar(labels, AD_mean['ArrDelay'], amplada, bottom= DD_mean['DepDelay']+AT_mean['AirTime'], label='ArrDelay')\n",
    "\n",
    "# etiquetes i llegenda\n",
    "ax6.legend()\n",
    "ax6.set_xlabel('Identificador de l\\'aerolínia (UniqueCarrier)')\n",
    "ax6.set_ylabel('Temps [minuts]')\n",
    "\n",
    "plt.savefig('fig6_.png')"
   ]
  },
  {
   "cell_type": "markdown",
   "id": "8a2698d3",
   "metadata": {},
   "source": [
    "##### S'observa que l'endarreriment en l'enlairement i l'aterratge són coherents amb els del gràfic anterior. Es mostra només la desviació estàndard de _AirTime_ perquè sinó es solapaven."
   ]
  }
 ],
 "metadata": {
  "kernelspec": {
   "display_name": "Python 3",
   "language": "python",
   "name": "python3"
  },
  "language_info": {
   "codemirror_mode": {
    "name": "ipython",
    "version": 3
   },
   "file_extension": ".py",
   "mimetype": "text/x-python",
   "name": "python",
   "nbconvert_exporter": "python",
   "pygments_lexer": "ipython3",
   "version": "3.8.8"
  }
 },
 "nbformat": 4,
 "nbformat_minor": 5
}
